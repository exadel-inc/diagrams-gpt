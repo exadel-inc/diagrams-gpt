{
 "cells": [
  {
   "cell_type": "code",
   "execution_count": 54,
   "metadata": {},
   "outputs": [
    {
     "name": "stdout",
     "output_type": "stream",
     "text": [
      "azure_machine_learning_service.txt\n"
     ]
    }
   ],
   "source": [
    "import inflection\n",
    "\n",
    "print(inflection.underscore(\"AzureMachineLearningService\")+\".txt\")"
   ]
  },
  {
   "cell_type": "code",
   "execution_count": 50,
   "metadata": {},
   "outputs": [],
   "source": [
    "system_message = \"\"\"\n",
    "Provide each method short description.\n",
    "Keep response as dense as possible.\n",
    "Example:\n",
    "- RoboMaker(e_alias, e_label, e_techn): Defines a RoboMaker entity with alias, label, and technology.\n",
    "- RoboMaker(e_alias, e_label, e_techn, e_descr): Defines a RoboMaker entity with alias, label, technology, and description.\n",
    "- RoboMakerParticipant(p_alias, p_label, p_techn): Defines a participant in a RoboMaker with alias, label, and technology.\n",
    "- RoboMakerParticipant(p_alias, p_label, p_techn, p_descr): Defines a participant in a RoboMaker with alias, label, technology, and description.\n",
    "\"\"\""
   ]
  },
  {
   "cell_type": "code",
   "execution_count": 55,
   "metadata": {},
   "outputs": [],
   "source": [
    "lib_definition = \"\"\"\n",
    "\n",
    "!define AzureMachineLearningService(e_alias, e_label, e_techn) AzureEntity(e_alias, e_label, e_techn, AZURE_SYMBOL_COLOR, AzureMachineLearningService, AzureMachineLearningService)\n",
    "!define AzureMachineLearningService(e_alias, e_label, e_techn, e_descr) AzureEntity(e_alias, e_label, e_techn, e_descr, AZURE_SYMBOL_COLOR, AzureMachineLearningService, AzureMachineLearningService)\n",
    "\"\"\""
   ]
  },
  {
   "cell_type": "code",
   "execution_count": 56,
   "metadata": {},
   "outputs": [
    {
     "name": "stdout",
     "output_type": "stream",
     "text": [
      "- AzureMachineLearningService(e_alias, e_label, e_techn): Defines an Azure Machine Learning Service entity with alias, label, and technology.\n",
      "- AzureMachineLearningService(e_alias, e_label, e_techn, e_descr): Defines an Azure Machine Learning Service entity with alias, label, technology, and description.\n"
     ]
    }
   ],
   "source": [
    "from langchain.schema.messages import HumanMessage, SystemMessage\n",
    "from langchain.chat_models import ChatOpenAI\n",
    "\n",
    "openai_api_key = \"\"\n",
    "llm = ChatOpenAI(temperature=0.3, openai_api_key=openai_api_key, model=\"gpt-4-32k\")\n",
    "messages = [\n",
    "    SystemMessage(content=system_message),\n",
    "    HumanMessage(content=lib_definition)\n",
    "]\n",
    "\n",
    "response = llm.generate([messages])\n",
    "print(response.generations[0][0].text)"
   ]
  }
 ],
 "metadata": {
  "kernelspec": {
   "display_name": ".venv",
   "language": "python",
   "name": "python3"
  },
  "language_info": {
   "codemirror_mode": {
    "name": "ipython",
    "version": 3
   },
   "file_extension": ".py",
   "mimetype": "text/x-python",
   "name": "python",
   "nbconvert_exporter": "python",
   "pygments_lexer": "ipython3",
   "version": "3.11.4"
  }
 },
 "nbformat": 4,
 "nbformat_minor": 2
}
