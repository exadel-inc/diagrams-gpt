{
 "cells": [
  {
   "cell_type": "code",
   "execution_count": 1,
   "metadata": {},
   "outputs": [],
   "source": [
    "system_message = \"\"\"\n",
    "Group services from user's message by Category and join Names using comma with space. Exclude \"all\" item from the list.\n",
    "Format as a table separated by pipes.\n",
    "For example\n",
    "-----------\n",
    "OSS|KubernetesGroup, KubernetesApi\n",
    "-----------\n",
    "\"\"\""
   ]
  },
  {
   "cell_type": "code",
   "execution_count": 4,
   "metadata": {},
   "outputs": [],
   "source": [
    "lib_symbols_doc = \"\"\"\n",
    "Category | Macro (Name) | <pre>Mono </pre> | Url\n",
    "OSS | KubernetesCronjob </br> (Kubernetes Cronjob) |![KubernetesCronjob](dist/OSS/KubernetesCronjob(m).png?raw=true) | OSS/KubernetesCronjob.puml\n",
    "OSS | KubernetesGroup </br> (Kubernetes Group) |![KubernetesGroup](dist/OSS/KubernetesGroup(m).png?raw=true) | OSS/KubernetesGroup.puml\n",
    "OSS | KubernetesPsp </br> (Kubernetes Psp) |![KubernetesPsp](dist/OSS/KubernetesPsp(m).png?raw=true) | OSS/KubernetesPsp.puml\n",
    "OSS | KubernetesRole </br> (Kubernetes Role) |![KubernetesRole](dist/OSS/KubernetesRole(m).png?raw=true) | OSS/KubernetesRole.puml\n",
    "OSS | KubernetesApi </br> (Kubernetes Api) |![KubernetesApi](dist/OSS/KubernetesApi(m).png?raw=true) | OSS/KubernetesApi.puml\n",
    "OSS | KubernetesJob </br> (Kubernetes Job) |![KubernetesJob](dist/OSS/KubernetesJob(m).png?raw=true) | OSS/KubernetesJob.puml\n",
    "OSS | KubernetesCm </br> (Kubernetes Cm) |![KubernetesCm](dist/OSS/KubernetesCm(m).png?raw=true) | OSS/KubernetesCm.puml\n",
    "OSS | KubernetesMaster </br> (Kubernetes Master) |![KubernetesMaster](dist/OSS/KubernetesMaster(m).png?raw=true) | OSS/KubernetesMaster.puml\n",
    "OSS | KubernetesKproxy </br> (Kubernetes Kproxy) |![KubernetesKproxy](dist/OSS/KubernetesKproxy(m).png?raw=true) | OSS/KubernetesKproxy.puml\n",
    "OSS | KubernetesCrd </br> (Kubernetes Crd) |![KubernetesCrd](dist/OSS/KubernetesCrd(m).png?raw=true) | OSS/KubernetesCrd.puml\n",
    "OSS | KubernetesDs </br> (Kubernetes Ds) |![KubernetesDs](dist/OSS/KubernetesDs(m).png?raw=true) | OSS/KubernetesDs.puml\n",
    "OSS | KubernetesSc </br> (Kubernetes Sc) |![KubernetesSc](dist/OSS/KubernetesSc(m).png?raw=true) | OSS/KubernetesSc.puml\n",
    "OSS | KubernetesCrb </br> (Kubernetes Crb) |![KubernetesCrb](dist/OSS/KubernetesCrb(m).png?raw=true) | OSS/KubernetesCrb.puml\n",
    "OSS | KubernetesSched </br> (Kubernetes Sched) |![KubernetesSched](dist/OSS/KubernetesSched(m).png?raw=true) | OSS/KubernetesSched.puml\n",
    "OSS | KubernetesLimits </br> (Kubernetes Limits) |![KubernetesLimits](dist/OSS/KubernetesLimits(m).png?raw=true) | OSS/KubernetesLimits.puml\n",
    "OSS | KubernetesQuota </br> (Kubernetes Quota) |![KubernetesQuota](dist/OSS/KubernetesQuota(m).png?raw=true) | OSS/KubernetesQuota.puml\n",
    "OSS | KubernetesVol </br> (Kubernetes Vol) |![KubernetesVol](dist/OSS/KubernetesVol(m).png?raw=true) | OSS/KubernetesVol.puml\n",
    "OSS | KubernetesSa </br> (Kubernetes Sa)|![KubernetesSa](dist/OSS/KubernetesSa(m).png?raw=true) | OSS/KubernetesSa.puml\n",
    "OSS | KubernetesKubelet </br> (Kubernetes Kubelet) |![KubernetesKubelet](dist/OSS/KubernetesKubelet(m).png?raw=true) | OSS/KubernetesKubelet.puml\n",
    "OSS | KubernetesPvc </br> (Kubernetes Pvc) |![KubernetesPvc](dist/OSS/KubernetesPvc(m).png?raw=true) | OSS/KubernetesPvc.puml\n",
    "OSS | KubernetesCcm </br> (Kubernetes Ccm) |![KubernetesCcm](dist/OSS/KubernetesCcm(m).png?raw=true) | OSS/KubernetesCcm.puml\n",
    "OSS | KubernetesSts </br> (Kubernetes Sts) |![KubernetesSts](dist/OSS/KubernetesSts(m).png?raw=true) | OSS/KubernetesSts.puml\n",
    "OSS | KubernetesNetpol </br> (Kubernetes Netpol) |![KubernetesNetpol](dist/OSS/KubernetesNetpol(m).png?raw=true) | OSS/KubernetesNetpol.puml\n",
    "OSS | KubernetesCrole </br> (Kubernetes Crole) |![KubernetesCrole](dist/OSS/KubernetesCrole(m).png?raw=true) | OSS/KubernetesCrole.puml\n",
    "OSS | KubernetesRs </br> (Kubernetes Rs) |![KubernetesRs](dist/OSS/KubernetesRs(m).png?raw=true) | OSS/KubernetesRs.puml\n",
    "OSS | KubernetesNode </br> (Kubernetes Node) |![KubernetesNode](dist/OSS/KubernetesNode(m).png?raw=true) | OSS/KubernetesNode.puml\n",
    "OSS | KubernetesSecret </br> (Kubernetes Secret) |![KubernetesSecret](dist/OSS/KubernetesSecret(m).png?raw=true) | OSS/KubernetesSecret.puml\n",
    "OSS | KubernetesNs </br> (Kubernetes Ns) |![KubernetesNs](dist/OSS/KubernetesNs(m).png?raw=true) | OSS/KubernetesNs.puml\n",
    "OSS | KubernetesDeploy </br> (Kubernetes Deploy) |![KubernetesDeploy](dist/OSS/KubernetesDeploy(m).png?raw=true) | OSS/KubernetesDeploy.puml\n",
    "OSS | KubernetesUser </br> (Kubernetes User) |![KubernetesUser](dist/OSS/KubernetesUser(m).png?raw=true) | OSS/KubernetesUser.puml\n",
    "OSS | KubernetesPv </br> (Kubernetes Pv) |![KubernetesPv](dist/OSS/KubernetesPv(m).png?raw=true) | OSS/KubernetesPv.puml\n",
    "OSS | KubernetesEp </br> (Kubernetes Ep) |![KubernetesEp](dist/OSS/KubernetesEp(m).png?raw=true) | OSS/KubernetesEp.puml\n",
    "OSS | KubernetesSvc </br> (Kubernetes Svc) |![KubernetesSvc](dist/OSS/KubernetesSvc(m).png?raw=true) | OSS/KubernetesSvc.puml\n",
    "OSS | KubernetesRb </br> (Kubernetes Rb) |![KubernetesRb](dist/OSS/KubernetesRb(m).png?raw=true) | OSS/KubernetesRb.puml\n",
    "OSS | KubernetesEtcd </br> (Kubernetes Etcd)|![KubernetesEtcd](dist/OSS/KubernetesEtcd(m).png?raw=true) | OSS/KubernetesEtcd.puml\n",
    "OSS | KubernetesIng </br> (Kubernetes Ing) |![KubernetesIng](dist/OSS/KubernetesIng(m).png?raw=true) | OSS/KubernetesIng.puml\n",
    "OSS | KubernetesHpa </br> (Kubernetes Hpa) |![KubernetesHpa](dist/OSS/KubernetesHpa(m).png?raw=true) | OSS/KubernetesHpa.puml\n",
    "\"\"\""
   ]
  },
  {
   "cell_type": "code",
   "execution_count": 5,
   "metadata": {},
   "outputs": [
    {
     "name": "stdout",
     "output_type": "stream",
     "text": [
      "-----------\n",
      "OSS|KubernetesCronjob, KubernetesGroup, KubernetesPsp, KubernetesRole, KubernetesApi, KubernetesJob, KubernetesCm, KubernetesMaster, KubernetesKproxy, KubernetesCrd, KubernetesDs, KubernetesSc, KubernetesCrb, KubernetesSched, KubernetesLimits, KubernetesQuota, KubernetesVol, KubernetesSa, KubernetesKubelet, KubernetesPvc, KubernetesCcm, KubernetesSts, KubernetesNetpol, KubernetesCrole, KubernetesRs, KubernetesNode, KubernetesSecret, KubernetesNs, KubernetesDeploy, KubernetesUser, KubernetesPv, KubernetesEp, KubernetesSvc, KubernetesRb, KubernetesEtcd, KubernetesIng, KubernetesHpa\n",
      "-----------\n"
     ]
    }
   ],
   "source": [
    "from langchain.schema.messages import HumanMessage, SystemMessage\n",
    "from langchain.chat_models import ChatOpenAI\n",
    "\n",
    "openai_api_key = \"\"\n",
    "llm = ChatOpenAI(temperature=0.3, openai_api_key=openai_api_key, model=\"gpt-4-32k\")\n",
    "messages = [\n",
    "    SystemMessage(content=system_message),\n",
    "    HumanMessage(content=lib_symbols_doc)\n",
    "]\n",
    "\n",
    "response = llm.generate([messages])\n",
    "print(response.generations[0][0].text)"
   ]
  }
 ],
 "metadata": {
  "kernelspec": {
   "display_name": ".venv",
   "language": "python",
   "name": "python3"
  },
  "language_info": {
   "codemirror_mode": {
    "name": "ipython",
    "version": 3
   },
   "file_extension": ".py",
   "mimetype": "text/x-python",
   "name": "python",
   "nbconvert_exporter": "python",
   "pygments_lexer": "ipython3",
   "version": "3.11.4"
  }
 },
 "nbformat": 4,
 "nbformat_minor": 2
}
